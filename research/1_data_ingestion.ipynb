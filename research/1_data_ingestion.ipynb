{
 "cells": [
  {
   "cell_type": "code",
   "execution_count": 1,
   "metadata": {},
   "outputs": [],
   "source": [
    "import os\n"
   ]
  },
  {
   "cell_type": "code",
   "execution_count": 2,
   "metadata": {},
   "outputs": [
    {
     "data": {
      "text/plain": [
       "'c:\\\\Projects\\\\datascienceproject\\\\research'"
      ]
     },
     "execution_count": 2,
     "metadata": {},
     "output_type": "execute_result"
    }
   ],
   "source": [
    "#finding current directory\n",
    "%pwd"
   ]
  },
  {
   "cell_type": "code",
   "execution_count": 4,
   "metadata": {},
   "outputs": [
    {
     "data": {
      "text/plain": [
       "'c:\\\\Projects\\\\datascienceproject'"
      ]
     },
     "execution_count": 4,
     "metadata": {},
     "output_type": "execute_result"
    }
   ],
   "source": [
    "#to change directory to parent one\n",
    "os.chdir(\"../\")\n",
    "%pwd"
   ]
  },
  {
   "cell_type": "code",
   "execution_count": 5,
   "metadata": {},
   "outputs": [],
   "source": [
    "\n",
    "# @dataclass: This decorator automatically creates an __init__ method, making it easier to initialize instances.\n",
    "# The class defines configuration settings for data ingestion:\n",
    "from dataclasses import dataclass\n",
    "from pathlib import Path\n",
    "\n",
    "\n",
    "\n",
    "#normal class we use self keyword , in data class below we do not use the self, here focus is on assigning value to variable, ex root_dir:path\n",
    "#the below config will taken on config.yaml\n",
    "@dataclass\n",
    "class DataIngestionConfig:\n",
    "    root_dir: Path          # root_dir: Directory where all data-related files are stored.\n",
    "    source_URL: Path        # source_URL: URL to download the data from.\n",
    "    local_data_file: Path   # local_data_file: Path where the downloaded file will be stored.\n",
    "    unzip_dir: Path         # unzip_dir: Directory where the extracted files will be placed.\n",
    "\n",
    "\n",
    "#Example usage\n",
    "# config = DataIngestionConfig(\n",
    "#     root_dir=Path(\"/data\"),\n",
    "#     source_URL=Path(\"https://example.com/data.zip\"),\n",
    "#     local_data_file=Path(\"/data/data.zip\"),\n",
    "#     unzip_dir=Path(\"/data/unzipped\")\n",
    "# )\n"
   ]
  },
  {
   "cell_type": "code",
   "execution_count": 15,
   "metadata": {},
   "outputs": [],
   "source": [
    "from src.datascience.constants import CONFIG_FILE_PATH,PARAMS_FILE_PATH,SCHEMA_FILE_PATH\n",
    "from src.datascience.utils.common import read_yaml, create_directories\n",
    "#configuration manager will load the input from src/datascience/constant\n",
    "class ConfigurationManager:\n",
    "    def __init__(self, config_filepath=CONFIG_FILE_PATH,\n",
    "                 schema_filepath=SCHEMA_FILE_PATH,\n",
    "                 params_filepath=PARAMS_FILE_PATH):  #CONFIG_FILE_PATH WILL BE present in src\\datascience\\constants\n",
    "        self.config=read_yaml(config_filepath)  #we want to read the yaml file so we will use read_yaml function which is defined in utils\n",
    "        self.params=read_yaml(params_filepath)\n",
    "        self.schema=read_yaml(schema_filepath)\n",
    "\n",
    "        create_directories([self.config.artifacts_root])  #artifacts_root is in  config.yaml, here we are creating artifact\n",
    "\n",
    "\n",
    "    def get_data_ingestion_config(self)-> DataIngestionConfig:  #here we are returning dataingestion config which is above the path for root dir, etc\n",
    "        config=self.config.data_ingestion  #data_ingestion is the key config.yaml file\n",
    "        create_directories([config.root_dir]) #the first folder needed to create in config.yaml is root_directories\n",
    "\n",
    "        data_ingestion_config=DataIngestionConfig(\n",
    "            root_dir=config.root_dir,\n",
    "            source_URL=config.source_URL,\n",
    "            local_data_file=config.local_data_file,\n",
    "            unzip_dir=config.unzip_dir\n",
    "\n",
    "        )\n",
    "\n",
    "        return data_ingestion_config\n",
    "\n",
    "\n",
    "\n",
    "\n",
    "\n",
    "\n",
    "\n",
    "\n",
    "\n",
    "\n",
    "\n",
    "\n"
   ]
  },
  {
   "cell_type": "code",
   "execution_count": 16,
   "metadata": {},
   "outputs": [],
   "source": [
    "import os\n",
    "import urllib.request as request\n",
    "from src.datascience import logger\n",
    "import zipfile"
   ]
  },
  {
   "cell_type": "code",
   "execution_count": 17,
   "metadata": {},
   "outputs": [],
   "source": [
    "##Component-Data ingestion component\n",
    "\n",
    "#after getting the configuration details in data ingestion config, we should be downloading the entire zip file\n",
    "\n",
    "\n",
    "# This class is responsible for downloading and extracting data.\n",
    "# It takes a DataIngestionConfig object as input.\n",
    "\n",
    "\n",
    "\n",
    "class DataIngestion:\n",
    "    def __init__(self,config: DataIngestionConfig):\n",
    "        self.config=config\n",
    "    #downloading the zip fil\n",
    "    def download_file(self):\n",
    "        if not os.path.exists(self.config.local_data_file):   #request.urlretrieve(): Downloads the file from source_URL and saves it to local_data_file.\n",
    "            filename, headers=request.urlretrieve(            #filename: Path where the file is saved. #headers: Response headers (metadata)\n",
    "                url=self.config.source_URL,                   \n",
    "                filename= self.config.local_data_file         \n",
    "            )\n",
    "            logger.info(f\"{filename}download! with following info: \\n{headers}\")\n",
    "\n",
    "        else:\n",
    "            logger.info(f\"Already exist\")\n",
    "\n",
    "\n",
    "\n",
    "\n",
    "\n",
    "    def extract_zip_file(self):\n",
    "        \"\"\" \n",
    "        zip_file_path: str\n",
    "        Extract the zip file to data directory\n",
    "        function return none\n",
    "        \n",
    "        \n",
    "        \"\"\"\n",
    "        unzip_path = self.config.unzip_dir\n",
    "        os.makedirs(unzip_path, exist_ok=True)\n",
    "        with zipfile.ZipFile(self.config.local_data_file, 'r') as zip_ref:\n",
    "            zip_ref.extractall(unzip_path)\n",
    "        \n",
    "\n",
    "\n",
    "\n",
    "\n",
    "\n",
    "\n",
    "\n",
    "\n",
    "\n",
    "\n",
    "\n",
    "\n",
    "\n"
   ]
  },
  {
   "cell_type": "code",
   "execution_count": 18,
   "metadata": {},
   "outputs": [
    {
     "name": "stdout",
     "output_type": "stream",
     "text": [
      "[2025-02-06 15:15:35,599: INFO: common: yaml file: config\\config.yaml loaded succefully]\n",
      "[2025-02-06 15:15:35,600: INFO: common: yaml file: params.yaml loaded succefully]\n",
      "[2025-02-06 15:15:35,604: INFO: common: yaml file: schema.yaml loaded succefully]\n",
      "[2025-02-06 15:15:35,605: INFO: common: created directory at artifacts]\n",
      "[2025-02-06 15:15:35,606: INFO: common: created directory at artifacts/data_ingestion]\n",
      "[2025-02-06 15:15:36,376: INFO: 478841809: artifacts/data_ingestion/data.zipdownload! with following info: \n",
      "Connection: close\n",
      "Content-Length: 23329\n",
      "Cache-Control: max-age=300\n",
      "Content-Security-Policy: default-src 'none'; style-src 'unsafe-inline'; sandbox\n",
      "Content-Type: application/zip\n",
      "ETag: \"c69888a4ae59bc5a893392785a938ccd4937981c06ba8a9d6a21aa52b4ab5b6e\"\n",
      "Strict-Transport-Security: max-age=31536000\n",
      "X-Content-Type-Options: nosniff\n",
      "X-Frame-Options: deny\n",
      "X-XSS-Protection: 1; mode=block\n",
      "X-GitHub-Request-Id: C8AE:EF5A0:349E71:3A10F3:67A51864\n",
      "Accept-Ranges: bytes\n",
      "Date: Thu, 06 Feb 2025 20:15:33 GMT\n",
      "Via: 1.1 varnish\n",
      "X-Served-By: cache-ewr-kewr1740078-EWR\n",
      "X-Cache: MISS\n",
      "X-Cache-Hits: 0\n",
      "X-Timer: S1738872933.949995,VS0,VE337\n",
      "Vary: Authorization,Accept-Encoding,Origin\n",
      "Access-Control-Allow-Origin: *\n",
      "Cross-Origin-Resource-Policy: cross-origin\n",
      "X-Fastly-Request-ID: 7699848833c50f02161229b52787e7fd7dc019d9\n",
      "Expires: Thu, 06 Feb 2025 20:20:33 GMT\n",
      "Source-Age: 0\n",
      "\n",
      "]\n"
     ]
    }
   ],
   "source": [
    "try:\n",
    "    config=ConfigurationManager()\n",
    "    data_ingestion_config=config.get_data_ingestion_config()\n",
    "    data_ingestion=DataIngestion(config=data_ingestion_config)\n",
    "    data_ingestion.download_file()\n",
    "    data_ingestion.extract_zip_file()\n",
    "\n",
    "except Exception as e:\n",
    "    raise e"
   ]
  },
  {
   "cell_type": "code",
   "execution_count": null,
   "metadata": {},
   "outputs": [],
   "source": []
  }
 ],
 "metadata": {
  "kernelspec": {
   "display_name": "Python 3",
   "language": "python",
   "name": "python3"
  },
  "language_info": {
   "codemirror_mode": {
    "name": "ipython",
    "version": 3
   },
   "file_extension": ".py",
   "mimetype": "text/x-python",
   "name": "python",
   "nbconvert_exporter": "python",
   "pygments_lexer": "ipython3",
   "version": "3.10.0"
  }
 },
 "nbformat": 4,
 "nbformat_minor": 2
}
